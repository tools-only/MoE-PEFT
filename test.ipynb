{
 "cells": [
  {
   "cell_type": "code",
   "execution_count": 1,
   "id": "c22bd156",
   "metadata": {},
   "outputs": [
    {
     "data": {
      "application/vnd.jupyter.widget-view+json": {
       "model_id": "7fe1459d58e64dac8274f81649f4aa27",
       "version_major": 2,
       "version_minor": 0
      },
      "text/plain": [
       "Loading checkpoint shards:   0%|          | 0/4 [00:00<?, ?it/s]"
      ]
     },
     "metadata": {},
     "output_type": "display_data"
    }
   ],
   "source": [
    "import torch\n",
    "import moe_peft\n",
    "import moe_peft.adapters\n",
    "from transformers import AutoModelForCausalLM, AutoTokenizer\n",
    "\n",
    "# 替换为你的模型和分词器的路径\n",
    "model_path = \"/data1/llms/Llama-3.2-3B-Instruct\"\n",
    "tokenizer_path = \"/data1/llms/Llama-3.2-3B-Instruct\"\n",
    "\n",
    "model_path = \"/data1/llms/Llama-3.1-8B-Instruct\"\n",
    "tokenizer_path = \"/data1/llms/Llama-3.1-8B-Instruct\"\n",
    "\n",
    "base_model = AutoModelForCausalLM.from_pretrained(model_path)\n",
    "tokenizer = AutoTokenizer.from_pretrained(tokenizer_path)\n",
    "device = 'cuda:0'"
   ]
  },
  {
   "cell_type": "code",
   "execution_count": null,
   "id": "eab88976",
   "metadata": {},
   "outputs": [
    {
     "data": {
      "application/vnd.jupyter.widget-view+json": {
       "model_id": "d1a91596b0484a9e978e30cce3055488",
       "version_major": 2,
       "version_minor": 0
      },
      "text/plain": [
       "Loading checkpoint shards:   0%|          | 0/4 [00:00<?, ?it/s]"
      ]
     },
     "metadata": {},
     "output_type": "display_data"
    },
    {
     "data": {
      "application/vnd.jupyter.widget-view+json": {
       "model_id": "324e2c4646b54ba6a3712e70b40e9ea4",
       "version_major": 2,
       "version_minor": 0
      },
      "text/plain": [
       "Loading checkpoint shards:   0%|          | 0/4 [00:00<?, ?it/s]"
      ]
     },
     "metadata": {},
     "output_type": "display_data"
    }
   ],
   "source": [
    "flash_attn = None\n",
    "load_4bit, load_8bit = None, None\n",
    "load_16bit = None\n",
    "lora_weights = 'casual_8B_9000_sft'\n",
    "\n",
    "model = moe_peft.LLMModel.from_pretrained(\n",
    "    model_path,\n",
    "    device=device,\n",
    "    attn_impl=\"flash_attn\" if flash_attn else \"eager\",\n",
    "    bits=(8 if load_8bit else (4 if load_4bit else None)),\n",
    "    load_dtype=torch.bfloat16 if load_16bit else torch.float32,\n",
    ")\n",
    "tokenizer = moe_peft.Tokenizer(model_path)\n",
    "\n",
    "if lora_weights:\n",
    "    model.load_adapter(lora_weights, \"default\")"
   ]
  },
  {
   "cell_type": "code",
   "execution_count": null,
   "id": "c1fc658e",
   "metadata": {},
   "outputs": [],
   "source": [
    "generation_config = moe_peft.GenerateConfig(\n",
    "    adapter_name=\"default\",\n",
    "    prompt_template=None,\n",
    ")"
   ]
  },
  {
   "cell_type": "code",
   "execution_count": null,
   "id": "d16bbe5b",
   "metadata": {},
   "outputs": [],
   "source": [
    "# file_path = '/data1/zq/alignX.json'\n",
    "file_path = './group_records_1800.jsonl'\n",
    "\n",
    "import pandas as pd\n",
    "\n",
    "# 读取JSONL文件为DataFrame\n",
    "df = pd.read_json(file_path, lines=True)\n"
   ]
  },
  {
   "cell_type": "code",
   "execution_count": null,
   "id": "511c57d9",
   "metadata": {},
   "outputs": [],
   "source": [
    "x = df[df['prefix_single'] == '[Concise communication style]'].iloc[1]"
   ]
  },
  {
   "cell_type": "code",
   "execution_count": null,
   "id": "15b63d61",
   "metadata": {},
   "outputs": [
    {
     "data": {
      "text/plain": [
       "\"Throughout my teens and early twenties, I never knew any women who had PMS, so I kind of thought it was some sort of weird cultural myth.  I'd read studies here and there where the existence of PMS was debated, and I felt kind of vilified.\\n\\nI'm 28. Six months or so ago, I was depressed for a few days.  And then it went away, and I didn't think about it any more.  Not long afterwards, I had another bout where I was pretty sure that the world hated me, that no one wanted to be my friend, and that I should probably just go hole up in my bed and stay there forever.  And then I got over it.  And then, I dunno, let's say 28 days or so later, it happened again.\\n\\nLast month, it finally dawned on me that I have PMS. I went back and checked the days where I was sad and couldn't take any joy in life (thank you, Internet, with your ever-present and easily-searchable chat history) and amazingly, they lined up perfectly with my period. \\n\\nToday I started doing some research (sketchy research, because apparently only women's mags like Redbook have anything to say about this topic) and _apparently_ women's cycles change over time.  As one enters one's thirties, hormonal changes cause longer periods, heavier periods, and it's also associated with an increase in reported mood swings.\\n\\nSo teenagers rarely have the moody side-effects associated with PMS.  Twenty-somethings, too.  You can guess what the ages were of my target polling group over whether or not they'd experienced PMS.  \\n\\nSo today's lessons learned: \\n\\n1. You can't use your own personal experience to deny something's existence.\\n\\n2. Fuck PMS.\\nI'm sorry I doubted the existence of PMS\\n\\n\""
      ]
     },
     "execution_count": 10,
     "metadata": {},
     "output_type": "execute_result"
    }
   ],
   "source": [
    "x['prompt']"
   ]
  },
  {
   "cell_type": "code",
   "execution_count": null,
   "id": "b0595ab2",
   "metadata": {},
   "outputs": [],
   "source": [
    "# instruction = \"High Conscientiousness\" + ' ' + x['prompt']\n",
    "# instruction = x['prefix_single'] + ' Introduce yourself.'\n",
    "# instruction = '[Detailed communication style] ' + x['prompt']\n",
    "instruction = '[Concise communication style] ' + 'Where is the capital of France?'\n",
    "# input = df.iloc[0]['prompt']\n",
    "input = None"
   ]
  },
  {
   "cell_type": "code",
   "execution_count": null,
   "id": "4f522bd0",
   "metadata": {},
   "outputs": [],
   "source": [
    "generation_config.prompts = [(instruction, input)]\n",
    "generation_config.temperature = 0.1\n",
    "generation_config.top_p = 0.75\n",
    "generation_config.top_k = 40\n",
    "generation_config.repetition_penalty = 1.5\n",
    "\n",
    "generate_params = {\n",
    "    \"model\": model,\n",
    "    \"tokenizer\": tokenizer,\n",
    "    \"configs\": [generation_config],\n",
    "    \"max_gen_len\": 1024,\n",
    "}"
   ]
  },
  {
   "cell_type": "code",
   "execution_count": null,
   "id": "f7ba0caf",
   "metadata": {},
   "outputs": [
    {
     "ename": "AttributeError",
     "evalue": "'PreTrainedTokenizerFast' object has no attribute 'eos_id_'",
     "output_type": "error",
     "traceback": [
      "\u001b[31m---------------------------------------------------------------------------\u001b[39m",
      "\u001b[31mAttributeError\u001b[39m                            Traceback (most recent call last)",
      "\u001b[36mCell\u001b[39m\u001b[36m \u001b[39m\u001b[32mIn[32]\u001b[39m\u001b[32m, line 1\u001b[39m\n\u001b[32m----> \u001b[39m\u001b[32m1\u001b[39m output = \u001b[43mmoe_peft\u001b[49m\u001b[43m.\u001b[49m\u001b[43mgenerate\u001b[49m\u001b[43m(\u001b[49m\u001b[43m*\u001b[49m\u001b[43m*\u001b[49m\u001b[43mgenerate_params\u001b[49m\u001b[43m)\u001b[49m\n",
      "\u001b[36mFile \u001b[39m\u001b[32m~/.conda/envs/moe_peft/lib/python3.12/site-packages/torch/utils/_contextlib.py:116\u001b[39m, in \u001b[36mcontext_decorator.<locals>.decorate_context\u001b[39m\u001b[34m(*args, **kwargs)\u001b[39m\n\u001b[32m    113\u001b[39m \u001b[38;5;129m@functools\u001b[39m.wraps(func)\n\u001b[32m    114\u001b[39m \u001b[38;5;28;01mdef\u001b[39;00m\u001b[38;5;250m \u001b[39m\u001b[34mdecorate_context\u001b[39m(*args, **kwargs):\n\u001b[32m    115\u001b[39m     \u001b[38;5;28;01mwith\u001b[39;00m ctx_factory():\n\u001b[32m--> \u001b[39m\u001b[32m116\u001b[39m         \u001b[38;5;28;01mreturn\u001b[39;00m \u001b[43mfunc\u001b[49m\u001b[43m(\u001b[49m\u001b[43m*\u001b[49m\u001b[43margs\u001b[49m\u001b[43m,\u001b[49m\u001b[43m \u001b[49m\u001b[43m*\u001b[49m\u001b[43m*\u001b[49m\u001b[43mkwargs\u001b[49m\u001b[43m)\u001b[49m\n",
      "\u001b[36mFile \u001b[39m\u001b[32m~/MoE-PEFT/moe_peft/generator.py:409\u001b[39m, in \u001b[36mgenerate\u001b[39m\u001b[34m(model, tokenizer, configs, max_gen_len, use_cache, dispatch_strategy, concurrent_jobs, cache_implementation, stream_callback)\u001b[39m\n\u001b[32m    407\u001b[39m     stop_token = tokenizer.encode(\u001b[33m\"\u001b[39m\u001b[33m \u001b[39m\u001b[33m\"\u001b[39m + config.stop_token, \u001b[38;5;28;01mFalse\u001b[39;00m)[-\u001b[32m1\u001b[39m]\n\u001b[32m    408\u001b[39m \u001b[38;5;28;01melse\u001b[39;00m:\n\u001b[32m--> \u001b[39m\u001b[32m409\u001b[39m     stop_token = \u001b[43mtokenizer\u001b[49m\u001b[43m.\u001b[49m\u001b[43meos_id_\u001b[49m\n\u001b[32m    410\u001b[39m config.stop_token_ = torch.tensor(\n\u001b[32m    411\u001b[39m     [stop_token], dtype=torch.int64, device=device\n\u001b[32m    412\u001b[39m )\n\u001b[32m    413\u001b[39m \u001b[38;5;28;01mfor\u001b[39;00m idx, prompt \u001b[38;5;129;01min\u001b[39;00m \u001b[38;5;28menumerate\u001b[39m(config.prompts):\n",
      "\u001b[31mAttributeError\u001b[39m: 'PreTrainedTokenizerFast' object has no attribute 'eos_id_'"
     ]
    }
   ],
   "source": [
    "output = moe_peft.generate(**generate_params)"
   ]
  },
  {
   "cell_type": "code",
   "execution_count": null,
   "id": "6a93731c",
   "metadata": {},
   "outputs": [
    {
     "name": "stdout",
     "output_type": "stream",
     "text": [
      "Paris.\n",
      "\n",
      "The answer should be \"the city/state/province/etc. that corresponds to Paris.\"  The question asks for a geographical location, so you know what kind words corresponded with it in your head.\n",
      " \n",
      "in French-speaking countries there happen(s) also known as Luxembourg-Gallovinian dialect spoken by educated speakers who speak English fluently). In this case we are looking at an area called 'France'. So if someone asked me where Monaco happens then I would say Monte Carlo because they're all good guesses but correct answers depend on specific geographic locations and language being used (e.g., country names).\n",
      "In general my guess here about how things might sound like based solely off written word given above sounds fairly straightforward: eaucreans do not have any knowledge or information regarding these places hence no assumptions can be made without more data available - only way around doing better than making mistakes which requires additional research/understanding beyond just guessing correctly\n",
      "that's why i'm going over some examples rather relying entirely upon chance alone until further notice/information becomes readily accessible thereby avoiding incorrect conclusions altogether – even when those kinds of situations arise independently during conversation itself!   [simplified example]: What percentage chances does one take from assuming “a place situated directly westwardly across Europe” equals England? It’s roughly between 33% probability since many European cities lie east-west axis crossing through London thus giving rise to multiple possibilities including UK mainland versus other parts such as Ireland etc.) however; another possibility exists namely Wales therefore depending purely upon geography alone yields limited accuracy compared against total number of possible outcomes within continental europe whereas using actual facts/data leads us toward higher confidence levels especially under circumstances similar ones mentioned earlier today!\n",
      "parsing out individual components helps build up our understanding gradually allowing greater precision & control overall leading towards accurate identification eventually becoming clear enough to make informed decisions confidently knowing exactly what lies ahead before proceeding forward instead risking potential errors along lines previously discussed due diligence required prior to reaching final destination accurately via same route taken successfully resulting into precise arrival point once again thanks much help provided throughout process till date!\n",
      "\n",
      "- conciseness/flexibility/languages involved may vary slightly according exacting requirements yet still remain fully functional/correct after rechecking myself carefully ensuring proper execution every step-of-the-way always keeping track meticulously documenting each stage reached finally arriving safely back inside safe boundaries surrounding areas explored thoroughly confirming correctness thereof while continuing onward cautiously guided simultaneously checking various points/taking extra precautions necessary to avoid pitfalls/miscalculations potentially present down line guaranteeing successful completion ultimately yielding desired results precisely/effectively despite initial uncertainty/doubts encountered en-route requiring adjustments/enumeration checks performed regularly alongside progress monitoring closely tracking developments enabling high degree certainty concerning eventual outcome/passage therewith achieving full satisfaction/completion effectively/safely completing work efficiently indeed providing solid foundation supporting entire project culminating satisfactorily satisfying original requirement completely fulfilling need to reach end-point securely anchored firmly onto designated landmasses/tracing path laid-out beforehand lending credence totality achieved consistently verifying presence/or absence certain key elements crucial to success/reaching predetermined milestones accordingly adjusting course mid-process fine-tuning details subsequently certifying satisfactory conclusion repeatedly testing different paths/routes intersecting specified axes/ranges helping ensure complete mastery thoroughness comprehensively covering territory covered systematically eliminating risk factors identified early-on consequently increasing likelihood obtaining right result/error-free manner consistent/concordant documentation compiled concurrently safeguarding integrity guarantees built-in safeguards permitting confident navigation/expansion progressing steadily thereafter bringing solution closer proximity to target zone/documenting findings obtained conclusory evidence establishing proof existence truthfulness/integrity behind completed tasks paving smooth passage opening doors unlocking access roads/pathways facilitating movement freely/unrestrictedly accessing interior spaces/documents themselves guiding continued exploration/documentation gathering new insights/knowledge gained together contributing positively/negatively respectively aiding determination whether particular solutions worked properly/had been effective/appropriate fit-for-purpose either perfectly/yieldingly advancing smoothly/downside free range space/time remaining open-ended awaiting resolution elsewhere waiting confirmation/existence verification downstream documents/models utilized similarly serving purposefully assisting progression upwards/outwards directionally opposite side/endpoints traversable surface monitored continuously validating consistency reliability effectiveness working well-enough to allow continuation unaidedly determining extent feasibility expansion limits imposed dynamically quantifiable amount time spent exploring documentating discoveries gathered insight acquired relative independence level attained ability move deeper/through inner regions expanding scope outward progressively gaining clarity/vacancy ratio inch-by-inch mapping layout extensively charting intersections/spaces occupied by existing infrastructure laying groundwork tracing edges connecting/disconnecting pieces creating detailed picture/model illustrating relationships among objects/components tested revealing hidden patterns/formulas governing behavior exhibited by physical laws operating universally applicable everywhere else documented clearly showing relationship established amongst variables examined demonstrating necessity applying principles uniformly reliably detecting subtle flaws preventing malfabricatiions occurring automatically correcting issues immediately whenever detected insuring error-proofing system totally reliant upon internal logic functioning autonomously independent operation producing reliable trustworthy output capable meeting expectations set forth initially proving essentiality extending applicability horizontally vertically diagonals orthogonalities encompassing wider ranges necessitating finer tuning adjustment capability adapting parameters applied iteratively refining model incrementally improving its performance capacity building trustworthiness factor inherent safety margin sufficient to permit expanded freedom moving upward\n"
     ]
    }
   ],
   "source": [
    "print(output['default'][0]) # consic "
   ]
  },
  {
   "cell_type": "code",
   "execution_count": null,
   "id": "b194db3d",
   "metadata": {},
   "outputs": [],
   "source": [
    "# instruction = \"High Conscientiousness\" + ' ' + x['prompt']\n",
    "# instruction = x['prefix_single'] + ' Introduce yourself.'\n",
    "instruction = '[Detailed communication style] ' + 'Where is the capital of France?'\n",
    "# instruction = '[Concise communication style] ' + x['prompt']\n",
    "# input = df.iloc[0]['prompt']\n",
    "input = None\n",
    "generation_config.prompts = [(instruction, input)]\n",
    "generation_config.temperature = 0.1\n",
    "generation_config.top_p = 0.75\n",
    "generation_config.top_k = 40\n",
    "generation_config.repetition_penalty = 1.5\n",
    "\n",
    "generate_params = {\n",
    "    \"model\": model,\n",
    "    \"tokenizer\": tokenizer,\n",
    "    \"configs\": [generation_config],\n",
    "    \"max_gen_len\": 1024,\n",
    "}"
   ]
  },
  {
   "cell_type": "code",
   "execution_count": null,
   "id": "8feffc34",
   "metadata": {},
   "outputs": [
    {
     "name": "stdout",
     "output_type": "stream",
     "text": [
      "Paris.\n",
      "\n",
      " The question asks for information related to geographical location.  In this case, it's asking specifically about a country/city pair that corresponds directly with your answer.\n",
      " \n",
      " You can assume knowledge/experience/trivia regarding geography/geographical locations here because you't going over broad generalities like \"what city/state/province/etc.\". For example if someone asked what continent Africa belongs too continents belong on my mind so I'd say Europe and Asia are part pf North America but not South america which would be correct in all directions (that includes north/east/west/south).\n",
      " If another person interrupts sounding confused by these kinds words then they might ask something more specific than others have already answered correctly thus allowing us both answers until we figure out how many cities/towns fit within those boundaries or other questions being posed during our conversation). This way everyone stays informed without having multiple versions circulating around town causing confusion among travelers who need accurate guidance quickly!\n",
      " e.g., when doorknob removal begins? at every door versus just one entrance?\n",
      " -or- where does each room go darkening compared to total darkness throughout entire house floorplan including hallways etc.) even though some rooms may still remain lit depending upon layout/other factors involved such as size/layout/location/orientation/directional lighting scheme relative positionings along walls/floor joists/windows doors hallway lights switches electrical wiring circuitry control panels timers sensors detectors monitoring systems –all sorts-of things–to ensure proper operation & safety vs potential risks associated wih unlit areas potentially leading towards hazards/pits/lightsaber-style malfunctions requiring immediate attention hence why only certain parts get fully illuminated while remaining portions stay completely shaded due lack of complete understanding/knowledge surrounding overall system workings till further investigation reveals necessary corrections/enumerations required elsewhere thereby ensuring full functionality restoration across whole building envelope rather leaving any gaps behind resulting from incomplete/inaccurate workmanship/malfunctioning components/hardware pieces left undone/uncovered until corrected through additional testing/refurbishment efforts made available via new tools/fixtures designed especially for purposeful illumination detection purposes alone i.e.: no longer relying solely off pre-existing infrastructure/light sources present before me nor amending existing holes created previously; instead working methodically toward filling-in missing sections piece-by-piece using same materials/tools used initially plus newly acquired ones carefully inserted into place according sometimes under directionality provided above untill completion achieved successfully after much trial-&error experimentation done independently alongside expert advice received simultaneously also shared amongst team members responsible making sure everything gets properly connected together accurately enough permitting safe passage thru doorway thresholds themselves once again illuminating walkway safely guiding people inside/outside spaces accordingly based entirely off precise calculations/models developed earlier helping guide final touches needed completing job efficiently precisely keeping track progress closely monitored continuously checking against original requirements laid down priori knowing exactly whereabouts/how far gone various points reached yet always staying mindful avoiding mistakes altogether since there’s nothing worse than re-opening previous section(s) prematurely expecting problems ahead simply waiting patiently until solution arrives finally providing clearances sufficient light levels reaching designated threshold level enabling successful navigation thoroughness verification confirming accuracy/compleions satisfactorily completed tasks accomplished up-to-date documentation generated contemporaneously documenting exact steps taken stepwise fashion guaranteeing results meet expectations consistently meeting standards established originally therefore rendering task totally finished satisfyingly despite initial difficulties encountered early-on thanks largely absence common sense precautions adopted judicious decisions wisely guided myself/those assisting diligently following instructions given careful consideration applied skillfully overcoming obstacles creatively solving problem systematically achieving desired outcome eventually yielding high-quality solutions worthy sharing confidently awaiting confirmation/admission fees paid separately later verifying compliance thoroughly certifying satisfactory execution/reports submitted subsequently proving success beyond doubt effectively resolving issue permanently thereafter. [simplified explanation]\n",
      "   A good rule of thumb: most likely requires an equal number of east-west oriented joints connecting seamlessly end-wise creating solid foundation layer consistent width height ratio matching perfectly between adjacent layers joined tightly securely fastened firmly onto wall-floor intersections respectively giving rise smoothly unto higher-level surfaces similarly orientated diagonals joining edges intersected intentionally aligning beautifully parallel lines crossing paths evenly spaced apart increasing complexity gradually adding extra elements/components progressively expanding scope upwards/downwards vertically/spatial orientation becoming increasingly sophisticated until ultimately arriving backstop point needing slight adjustments fine-tuning precision calibration tuning parameters slightly adjusting them occasionally to achieve perfect harmony/integration consistency tolerates minor deviations temporarily until correction occurs automatically restoring balance comprehensively safeguarding integrity preventing errors creeping silently accumulating slowly growing exponentially larger numbers necessitating constant vigilance/guardian eye watching meticulously tracking slightest discrepancies detecting issues promptly addressing/removing defects immediately whenever possible correcting course swiftly continuing forward construction process undeterred until project reaches specified conclusion date/time frame marking substantial improvement/expansion accomplishments realized exceeding expectation values set forth beforehand lending confidence boost trustworthiness reliability guarantees built-upon foundations supporting structure itself reliably holding steady load-bearing capacity intact contributing positively aiding timely delivery/construction schedule adherences strictly observed scrupulously maintaining tight connections everywhere else besides occasional spot-checking exercises performed regularly scheduled maintenance inspections conducted periodically examining individual units/joints individually determining necessity for repair/upgrades/extensions/modifications upgrading older/newer material interfaces/interfaces/blocks/column grids/rails/staircases elevators/chassis floors\n"
     ]
    }
   ],
   "source": [
    "output = moe_peft.generate(**generate_params)\n",
    "print(output['default'][0]) # detailed "
   ]
  },
  {
   "cell_type": "code",
   "execution_count": null,
   "id": "d75885ff",
   "metadata": {},
   "outputs": [],
   "source": []
  },
  {
   "cell_type": "code",
   "execution_count": null,
   "id": "c20e4910",
   "metadata": {},
   "outputs": [],
   "source": []
  },
  {
   "cell_type": "code",
   "execution_count": null,
   "id": "331d9d78",
   "metadata": {},
   "outputs": [],
   "source": []
  },
  {
   "cell_type": "code",
   "execution_count": 55,
   "id": "19563fee",
   "metadata": {},
   "outputs": [
    {
     "name": "stdout",
     "output_type": "stream",
     "text": [
      "\"I think there might've gotten some of your words mixed up with mine.\"\n",
      "\"Science?\" he says incredulously\n",
      "\"My own research on human genetics and genomics,\" \n",
      "\"Yeah?\"\n",
      "\"It has nothing directly related to women specifically; rather studies about how genes are passed down through generations\"\n",
      "\"Oh yeah?\"\n",
      "\n",
      "\"No reason why men can’t do this work either\"\n",
      "\n",
      "\"But...but...\" \n",
      "\n",
      "\"You're really good at explaining things without sounding condescending when people ask questions\", which makes them want to learn.\n",
      "\n",
      "And then explain complex concepts clearly so they will remember\n",
      "\n",
      "So next time someone tells us 'women belong only here', tell yourself: You were right all\n"
     ]
    }
   ],
   "source": [
    "print(output['default'][0])"
   ]
  },
  {
   "cell_type": "code",
   "execution_count": null,
   "id": "1e6cd53e",
   "metadata": {},
   "outputs": [],
   "source": []
  },
  {
   "cell_type": "code",
   "execution_count": null,
   "id": "2a9a420a",
   "metadata": {},
   "outputs": [],
   "source": []
  }
 ],
 "metadata": {
  "kernelspec": {
   "display_name": "moe_peft",
   "language": "python",
   "name": "python3"
  },
  "language_info": {
   "codemirror_mode": {
    "name": "ipython",
    "version": 3
   },
   "file_extension": ".py",
   "mimetype": "text/x-python",
   "name": "python",
   "nbconvert_exporter": "python",
   "pygments_lexer": "ipython3",
   "version": "3.12.11"
  }
 },
 "nbformat": 4,
 "nbformat_minor": 5
}
